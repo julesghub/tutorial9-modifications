{
 "cells": [
  {
   "cell_type": "markdown",
   "metadata": {},
   "source": [
    "# Tutorial 9: Extensional reactivation of continental margins\n",
    "\n",
    "Romain Beucher, Peter Lovely, Amy L'Anson after (l'Anson et al. 2018)\n",
    "\n",
    "\n",
    "![Model](./images/Tutorial_9.gif)"
   ]
  },
  {
   "cell_type": "code",
   "execution_count": null,
   "metadata": {},
   "outputs": [],
   "source": [
    "import UWGeodynamics as GEO\n",
    "import glucifer"
   ]
  },
  {
   "cell_type": "code",
   "execution_count": null,
   "metadata": {},
   "outputs": [],
   "source": [
    "u = GEO.UnitRegistry"
   ]
  },
  {
   "cell_type": "markdown",
   "metadata": {},
   "source": [
    "## Scaling"
   ]
  },
  {
   "cell_type": "code",
   "execution_count": null,
   "metadata": {},
   "outputs": [],
   "source": [
    "half_rate = 1.5 * u.centimeter / u.year\n",
    "model_length = 128e3 * u.meter\n",
    "surfaceTemp = 293.15 * u.degK\n",
    "baseModelTemp = 1573.15 * u.degK\n",
    "bodyforce = 3395 * u.kilogram / u.metre**3 * 9.81 * u.meter / u.second**2\n",
    "\n",
    "KL = model_length\n",
    "Kt = KL / half_rate\n",
    "KM = bodyforce * KL**2 * Kt**2\n",
    "KT = (baseModelTemp - surfaceTemp)\n",
    "\n",
    "GEO.scaling_coefficients[\"[length]\"] = KL\n",
    "GEO.scaling_coefficients[\"[time]\"] = Kt\n",
    "GEO.scaling_coefficients[\"[mass]\"]= KM\n",
    "GEO.scaling_coefficients[\"[temperature]\"] = KT"
   ]
  },
  {
   "cell_type": "markdown",
   "metadata": {},
   "source": [
    "### Model Setup (Figure from I'Anson et al., 2018)\n",
    "\n",
    "\n",
    "![Setup](images/LAnson2018.png)"
   ]
  },
  {
   "cell_type": "code",
   "execution_count": null,
   "metadata": {},
   "outputs": [],
   "source": [
    "Model = GEO.Model(elementRes=(128, 64), \n",
    "                  minCoord=(0. * u.kilometer, -60. * u.kilometer), \n",
    "                  maxCoord=(128. * u.kilometer, 4. * u.kilometer), \n",
    "                  gravity=(0.0, -9.81 * u.meter / u.second**2))"
   ]
  },
  {
   "cell_type": "code",
   "execution_count": null,
   "metadata": {},
   "outputs": [],
   "source": [
    "Model.stressLimiter = 300 * u.megapascal"
   ]
  },
  {
   "cell_type": "code",
   "execution_count": null,
   "metadata": {},
   "outputs": [],
   "source": [
    "Model.mesh_advector(axis=0)"
   ]
  },
  {
   "cell_type": "markdown",
   "metadata": {},
   "source": [
    "# Add some Materials\n",
    "\n",
    "Now that we have our \"universe\" (box, sand pit) ready, we need to fill it with some materials.\n",
    "The *geodynamics* module is designed around that idea of materials, which are essentially a way to define physical properties across the Model domain.\n",
    "\n",
    "A material (or a phase) is first defined by the space it takes in the box (its shape)."
   ]
  },
  {
   "cell_type": "code",
   "execution_count": null,
   "metadata": {},
   "outputs": [],
   "source": [
    "Model.diffusivity = 1e-6 * u.metre**2 / u.second \n",
    "Model.capacity    = 1000. * u.joule / (u.kelvin * u.kilogram)"
   ]
  },
  {
   "cell_type": "markdown",
   "metadata": {},
   "source": [
    "The Model we are building is essentially a layered cake. The geodynamics module provide and easy way to define a layer by defining shape as *layer* and specifying its *top* and *bottom*. The order is important: when 2 shapes overlay each other, only the second is used."
   ]
  },
  {
   "cell_type": "code",
   "execution_count": null,
   "metadata": {},
   "outputs": [],
   "source": [
    "air = Model.add_material(name=\"Air\", shape=GEO.shapes.Layer(top=Model.top, bottom=0.0 * u.kilometer))\n",
    "Sediment1 = Model.add_material(name=\"Sediment1\", shape=GEO.shapes.Layer(top=air.bottom, bottom= -1.0 * u.kilometer))\n",
    "Sediment2 = Model.add_material(name=\"Sediment2\", shape=GEO.shapes.Layer(top=Sediment1.bottom, bottom= -2.0 * u.kilometer))\n",
    "Sediment3 = Model.add_material(name=\"Sediment3\", shape=GEO.shapes.Layer(top=Sediment2.bottom, bottom= -3.0 * u.kilometer))\n",
    "Sediment4 = Model.add_material(name=\"Sediment4\", shape=GEO.shapes.Layer(top=Sediment3.bottom, bottom= -4.0 * u.kilometer))\n",
    "Sediment5 = Model.add_material(name=\"Sediment5\", shape=GEO.shapes.Layer(top=Sediment4.bottom, bottom= -5.0 * u.kilometer))\n",
    "Sediment6 = Model.add_material(name=\"Sediment6\", shape=GEO.shapes.Layer(top=Sediment5.bottom, bottom= -6.0 * u.kilometer))\n",
    "Sediment7 = Model.add_material(name=\"Sediment7\", shape=GEO.shapes.Layer(top=Sediment6.bottom, bottom= -7.0 * u.kilometer))\n",
    "Sediment8 = Model.add_material(name=\"Sediment8\", shape=GEO.shapes.Layer(top=Sediment7.bottom, bottom= -8.0 * u.kilometer))\n",
    "Sediment9 = Model.add_material(name=\"Sediment9\", shape=GEO.shapes.Layer(top=Sediment8.bottom, bottom= -9.0 * u.kilometer))\n",
    "Basement1 = Model.add_material(name=\"Basement1\", shape=GEO.shapes.Layer(top=Sediment9.bottom, bottom= -11.0 * u.kilometer))\n",
    "Basement2 = Model.add_material(name=\"Basement2\", shape=GEO.shapes.Layer(top=Basement1.bottom, bottom= -13.0 * u.kilometer))\n",
    "Basement3 = Model.add_material(name=\"Basement3\", shape=GEO.shapes.Layer(top=Basement2.bottom, bottom= -15.0 * u.kilometer))\n",
    "Lowercrust = Model.add_material(name=\"LowerCrust\", shape=GEO.shapes.Layer(top=Basement3.bottom, bottom=-25.0 * u.kilometer))\n",
    "mantleLithosphere = Model.add_material(name=\"MantleLithosphere\", shape=GEO.shapes.Layer(top=Lowercrust.bottom, bottom=-40.0 * u.kilometer))\n",
    "mantle = Model.add_material(name=\"Mantle\", shape=GEO.shapes.Layer(top=mantleLithosphere.bottom, bottom=Model.bottom))\n",
    "sediment = Model.add_material(name=\"Sediment\")"
   ]
  },
  {
   "cell_type": "code",
   "execution_count": null,
   "metadata": {},
   "outputs": [],
   "source": [
    "vertices1 = [(100.* u.kilometer, -2.0 * u.kilometer),\n",
    "            (79.* u.kilometer, -23.0 * u.kilometer),\n",
    "            (77.* u.kilometer, -23.0 * u.kilometer),\n",
    "            (98.* u.kilometer, -2.0 * u.kilometer)]\n",
    "\n",
    "fault = GEO.shapes.Polygon(vertices1)\n",
    "\n",
    "fault = Model.add_material (name = \"Fault\", shape = fault)"
   ]
  },
  {
   "cell_type": "code",
   "execution_count": null,
   "metadata": {},
   "outputs": [],
   "source": [
    "vertices2 = [(100.* u.kilometer, -2.0 * u.kilometer),\n",
    "            (128.* u.kilometer, -2.0 * u.kilometer),\n",
    "            (128.* u.kilometer, -25.0 * u.kilometer),\n",
    "            (77.* u.kilometer, -25.0 * u.kilometer)]\n",
    "\n",
    "backstop = GEO.shapes.Polygon(vertices2)\n",
    "\n",
    "backstop = Model.add_material (name = \"Backstop\", shape = backstop)"
   ]
  },
  {
   "cell_type": "code",
   "execution_count": null,
   "metadata": {},
   "outputs": [],
   "source": [
    "colours = \"\"\"#ffffff #c8c5bb #c4bf7e #c3b768 #c09d35 #bd8b22\n",
    "#b76709 #9d3800 #8c2701 #751605 #41652c #b2c4a2 #3c0911 #580909\"\"\"\n",
    "\n",
    "Fig = glucifer.Figure(figsize=(800, 500))\n",
    "Fig.Points(Model.swarm, Model.materialField, colours=colours, discrete=True, fn_size=3)\n",
    "Fig.show()"
   ]
  },
  {
   "cell_type": "code",
   "execution_count": null,
   "metadata": {},
   "outputs": [],
   "source": [
    "air.diffusivity = 1.0e-6 * u.metre**2 / u.second\n",
    "air.capacity = 100. * u.joule / (u.kelvin * u.kilogram)"
   ]
  },
  {
   "cell_type": "markdown",
   "metadata": {},
   "source": [
    "## Define Densities"
   ]
  },
  {
   "cell_type": "code",
   "execution_count": null,
   "metadata": {},
   "outputs": [],
   "source": [
    "air.density = 1. * u.kilogram / u.metre**3\n",
    "Sediment1.density = GEO.LinearDensity(2000. * u.kilogram / u.metre**3, thermalExpansivity=3e-5 / u.kelvin)\n",
    "Sediment2.density = GEO.LinearDensity(2050. * u.kilogram / u.metre**3, thermalExpansivity=3e-5 / u.kelvin)\n",
    "Sediment3.density = GEO.LinearDensity(2100. * u.kilogram / u.metre**3, thermalExpansivity=3e-5 / u.kelvin)\n",
    "Sediment4.density = GEO.LinearDensity(2150. * u.kilogram / u.metre**3, thermalExpansivity=3e-5 / u.kelvin)\n",
    "Sediment5.density = GEO.LinearDensity(2200. * u.kilogram / u.metre**3, thermalExpansivity=3e-5 / u.kelvin)\n",
    "Sediment6.density = GEO.LinearDensity(2250. * u.kilogram / u.metre**3, thermalExpansivity=3e-5 / u.kelvin)\n",
    "Sediment7.density = GEO.LinearDensity(2300. * u.kilogram / u.metre**3, thermalExpansivity=3e-5 / u.kelvin)\n",
    "Sediment8.density = GEO.LinearDensity(2350. * u.kilogram / u.metre**3, thermalExpansivity=3e-5 / u.kelvin)\n",
    "Sediment9.density = GEO.LinearDensity(2400. * u.kilogram / u.metre**3, thermalExpansivity=3e-5 / u.kelvin)\n",
    "Basement1.density = GEO.LinearDensity(2500. * u.kilogram / u.metre**3, thermalExpansivity=3e-5 / u.kelvin)\n",
    "Basement2.density = GEO.LinearDensity(2600. * u.kilogram / u.metre**3, thermalExpansivity=3e-5 / u.kelvin)\n",
    "Basement3.density = GEO.LinearDensity(2700. * u.kilogram / u.metre**3, thermalExpansivity=3e-5 / u.kelvin)\n",
    "Lowercrust.density = GEO.LinearDensity(2800. * u.kilogram / u.metre**3, thermalExpansivity=3e-5 / u.kelvin)\n",
    "backstop.density = GEO.LinearDensity(2800. * u.kilogram / u.metre**3, thermalExpansivity=3e-5 / u.kelvin)\n",
    "fault.density = GEO.LinearDensity(2000. * u.kilogram / u.metre**3, thermalExpansivity=3e-5 / u.kelvin)\n",
    "mantleLithosphere.density = GEO.LinearDensity(3370. * u.kilogram / u.metre**3, thermalExpansivity=3e-5 / u.kelvin)\n",
    "mantle.density = GEO.LinearDensity(3395. * u.kilogram / u.metre**3, thermalExpansivity=3e-5 / u.kelvin)\n",
    "sediment = GEO.LinearDensity(1900. * u.kilogram / u.metre**3, thermalExpansivity=3e-5 / u.kelvin)"
   ]
  },
  {
   "cell_type": "code",
   "execution_count": null,
   "metadata": {},
   "outputs": [],
   "source": [
    "Fig = glucifer.Figure(figsize=(800,400))\n",
    "Fig.Points(Model.swarm, GEO.Dimensionalize(Model.densityField, u.kilogram / u.metre**3))\n",
    "Fig.show()"
   ]
  },
  {
   "cell_type": "markdown",
   "metadata": {},
   "source": [
    "# Define Viscosities\n",
    "\n",
    "The rheology library contains some commonly used rheologies stored in a python dictionary structure. We can list the keys defining the rheologies as follows:"
   ]
  },
  {
   "cell_type": "code",
   "execution_count": null,
   "metadata": {},
   "outputs": [],
   "source": [
    "Model.minViscosity = 1e18 * u.pascal * u.second\n",
    "Model.maxViscosity = 5e23 * u.pascal * u.second"
   ]
  },
  {
   "cell_type": "code",
   "execution_count": null,
   "metadata": {},
   "outputs": [],
   "source": [
    "air.viscosity                = 1e18 * u.pascal * u.second\n",
    "Sediment1.viscosity          = 1e22 * u.pascal * u.second\n",
    "Sediment2.viscosity          = 1e22 * u.pascal * u.second\n",
    "Sediment3.viscosity          = 1e22 * u.pascal * u.second\n",
    "Sediment4.viscosity          = 1e22 * u.pascal * u.second\n",
    "Sediment5.viscosity          = 1e22 * u.pascal * u.second\n",
    "Sediment6.viscosity          = 1e22 * u.pascal * u.second\n",
    "Sediment7.viscosity          = 1e22 * u.pascal * u.second\n",
    "Sediment8.viscosity          = 1e22 * u.pascal * u.second\n",
    "Sediment9.viscosity          = 1e22 * u.pascal * u.second\n",
    "Basement1.viscosity          = 1e22 * u.pascal * u.second\n",
    "Basement2.viscosity          = 1e22 * u.pascal * u.second\n",
    "Basement3.viscosity          = 1e22 * u.pascal * u.second\n",
    "Lowercrust.viscosity         = 5e21 * u.pascal * u.second\n",
    "fault.viscosity              = 5e22 * u.pascal * u.second\n",
    "backstop.viscosity           = 5e23 * u.pascal * u.second\n",
    "mantleLithosphere.viscosity  = 1e22 * u.pascal * u.second\n",
    "mantle.viscosity             = 5e20 * u.pascal * u.second\n",
    "sediment.viscosity          = 1e21 * u.pascal * u.second"
   ]
  },
  {
   "cell_type": "markdown",
   "metadata": {},
   "source": [
    "# Define Plasticity\n",
    "\n",
    "Plastic behavior is assigned using the same approach as for viscosities."
   ]
  },
  {
   "cell_type": "code",
   "execution_count": null,
   "metadata": {},
   "outputs": [],
   "source": [
    "pl = GEO.PlasticityRegistry()\n",
    "\n",
    "\n",
    "# REMOVE PLASTICITY IN THE FIRST STEP"
   ]
  },
  {
   "cell_type": "code",
   "execution_count": null,
   "metadata": {},
   "outputs": [],
   "source": [
    "# Sediment1.plasticity = GEO.DruckerPrager(name=\"Sed1_plastic\",\n",
    "#                                          cohesion=20. * u.megapascal,\n",
    "#                                          cohesionAfterSoftening=3. * u.megapascal,\n",
    "#                                          frictionCoefficient=0.567,\n",
    "#                                          frictionAfterSoftening=0.112,\n",
    "#                                          epsilon1=0.0, epsilon2=0.2)\n",
    "# Sediment2.plasticity = GEO.DruckerPrager(name=\"Sed2_plastic\",\n",
    "#                                          cohesion=20. * u.megapascal,\n",
    "#                                          cohesionAfterSoftening=3. * u.megapascal,\n",
    "#                                          frictionCoefficient=0.567,\n",
    "#                                          frictionAfterSoftening=0.112,\n",
    "#                                          epsilon1=0.0, epsilon2=0.2)\n",
    "# Sediment3.plasticity = GEO.DruckerPrager(name=\"Sed3_plastic\",\n",
    "#                                          cohesion=30. * u.megapascal,\n",
    "#                                          cohesionAfterSoftening=3. * u.megapascal,\n",
    "#                                          frictionCoefficient=0.567,\n",
    "#                                          frictionAfterSoftening=0.112,\n",
    "#                                          epsilon1=0.0, epsilon2=0.2)\n",
    "# Sediment4.plasticity = GEO.DruckerPrager(name=\"Sed4_plastic\",\n",
    "#                                          cohesion=30. * u.megapascal,\n",
    "#                                          cohesionAfterSoftening=3. * u.megapascal,\n",
    "#                                          frictionCoefficient=0.567,\n",
    "#                                          frictionAfterSoftening=0.112,\n",
    "#                                          epsilon1=0.0, epsilon2=0.2)\n",
    "# Sediment5.plasticity = GEO.DruckerPrager(name=\"Sed5_plastic\",\n",
    "#                                          cohesion=30. * u.megapascal,\n",
    "#                                          cohesionAfterSoftening=3. * u.megapascal,\n",
    "#                                          frictionCoefficient=0.567,\n",
    "#                                          frictionAfterSoftening=0.112,\n",
    "#                                          epsilon1=0.0, epsilon2=0.2)\n",
    "# Sediment6.plasticity = GEO.DruckerPrager(name=\"Sed6_plastic\",\n",
    "#                                          cohesion=30. * u.megapascal,\n",
    "#                                          cohesionAfterSoftening=3. * u.megapascal,\n",
    "#                                          frictionCoefficient=0.567,\n",
    "#                                          frictionAfterSoftening=0.112,\n",
    "#                                          epsilon1=0.0, epsilon2=0.2)\n",
    "# Sediment7.plasticity = GEO.DruckerPrager(name=\"Sed7_plastic\",\n",
    "#                                          cohesion=30. * u.megapascal,\n",
    "#                                          cohesionAfterSoftening=3. * u.megapascal,\n",
    "#                                          frictionCoefficient=0.567,\n",
    "#                                          frictionAfterSoftening=0.112,\n",
    "#                                          epsilon1=0.0, epsilon2=0.2)\n",
    "# Sediment8.plasticity = GEO.DruckerPrager(name=\"Sed8_plastic\",\n",
    "#                                          cohesion=30. * u.megapascal,\n",
    "#                                          cohesionAfterSoftening=3. * u.megapascal,\n",
    "#                                          frictionCoefficient=0.567,\n",
    "#                                          frictionAfterSoftening=0.112,\n",
    "#                                          epsilon1=0.0, epsilon2=0.2)\n",
    "# Sediment9.plasticity = GEO.DruckerPrager(name=\"Sed9_plastic\",\n",
    "#                                          cohesion=30. * u.megapascal,\n",
    "#                                          cohesionAfterSoftening=3. * u.megapascal,\n",
    "#                                          frictionCoefficient=0.567,\n",
    "#                                          frictionAfterSoftening=0.112,\n",
    "#                                          epsilon1=0.0, epsilon2=0.2)\n",
    "# Basement1.plasticity = GEO.DruckerPrager(name=\"Bsmt1_plastic\",\n",
    "#                                          cohesion=20. * u.megapascal,\n",
    "#                                          cohesionAfterSoftening=4. * u.megapascal,\n",
    "#                                          frictionCoefficient=0.577,\n",
    "#                                          frictionAfterSoftening=0.1154,\n",
    "#                                          epsilon1=0.0, epsilon2=0.2)\n",
    "# Basement3.plasticity = GEO.DruckerPrager(name=\"Bsmt2_plastic\",\n",
    "#                                          cohesion=20. * u.megapascal,\n",
    "#                                          cohesionAfterSoftening=4. * u.megapascal,\n",
    "#                                          frictionCoefficient=0.577,\n",
    "#                                          frictionAfterSoftening=0.1154,\n",
    "#                                          epsilon1=0.0, epsilon2=0.2)\n",
    "# Basement2.plasticity = GEO.DruckerPrager(name=\"Bsmt3_plastic\",\n",
    "#                                          cohesion=20. * u.megapascal,\n",
    "#                                          cohesionAfterSoftening=4. * u.megapascal,\n",
    "#                                          frictionCoefficient=0.577,\n",
    "#                                          frictionAfterSoftening=0.1154,\n",
    "#                                          epsilon1=0.0, epsilon2=0.2)\n",
    "# sediment.plasticity = GEO.DruckerPrager(name=\"Sed_plastic\",\n",
    "#                                         cohesion=20. * u.megapascal,\n",
    "#                                         cohesionAfterSoftening=3. * u.megapascal,\n",
    "#                                         frictionCoefficient=0.567,\n",
    "#                                         frictionAfterSoftening=0.112,\n",
    "#                                         epsilon1=0.0, epsilon2=0.2)\n",
    "# fault.plasticity = GEO.DruckerPrager(name=\"Flt_plastic\",\n",
    "#                                      cohesion=20. * u.megapascal,\n",
    "#                                      cohesionAfterSoftening=0.8 * u.megapascal,\n",
    "#                                      frictionCoefficient=0.577,\n",
    "#                                      frictionAfterSoftening=0.02308,\n",
    "#                                      epsilon1=0.0, epsilon2=0.2)"
   ]
  },
  {
   "cell_type": "code",
   "execution_count": null,
   "metadata": {},
   "outputs": [],
   "source": [
    "Sediment1.stressLimiter = 75.0 * u.megapascal\n",
    "Sediment2.stressLimiter = 75.0 * u.megapascal\n",
    "Sediment3.stressLimiter = 75.0 * u.megapascal\n",
    "Sediment4.stressLimiter = 75.0 * u.megapascal\n",
    "Sediment5.stressLimiter = 75.0 * u.megapascal\n",
    "Sediment6.stressLimiter = 75.0 * u.megapascal\n",
    "Sediment7.stressLimiter = 75.0 * u.megapascal\n",
    "Sediment8.stressLimiter = 75.0 * u.megapascal\n",
    "Sediment9.stressLimiter = 75.0 * u.megapascal\n",
    "Basement1.stressLimiter = 150.0 * u.megapascal\n",
    "Basement2.stressLimiter = 150.0 * u.megapascal\n",
    "Basement3.stressLimiter = 150.0 * u.megapascal\n",
    "fault.stressLimiter = 50.0 * u.megapascal"
   ]
  },
  {
   "cell_type": "markdown",
   "metadata": {},
   "source": [
    "## Temperature Boundary Conditions"
   ]
  },
  {
   "cell_type": "code",
   "execution_count": null,
   "metadata": {},
   "outputs": [],
   "source": [
    "Model.set_temperatureBCs(top=293.15 * u.degK, \n",
    "                         bottom=1573.15 * u.degK, \n",
    "                         materials=[(air, 293.15 * u.degK)])"
   ]
  },
  {
   "cell_type": "markdown",
   "metadata": {},
   "source": [
    "## Velocity Boundary Conditions"
   ]
  },
  {
   "cell_type": "code",
   "execution_count": null,
   "metadata": {},
   "outputs": [],
   "source": [
    "Model.set_velocityBCs(left=[-3 * u.centimeter / u.year, None],\n",
    "                       right=[0 * u.centimeter / u.year, None],\n",
    "                       bottom=GEO.LecodeIsostasy(reference_mat=mantle, average=False))"
   ]
  },
  {
   "cell_type": "markdown",
   "metadata": {},
   "source": [
    "## Surface Processes"
   ]
  },
  {
   "cell_type": "code",
   "execution_count": null,
   "metadata": {},
   "outputs": [],
   "source": [
    "Model.surfaceProcesses = GEO.surfaceProcesses.SedimentationThreshold(air=[air], sediment=[Sediment1], threshold=0.)"
   ]
  },
  {
   "cell_type": "code",
   "execution_count": null,
   "metadata": {},
   "outputs": [],
   "source": [
    "Model.init_model()"
   ]
  },
  {
   "cell_type": "code",
   "execution_count": null,
   "metadata": {},
   "outputs": [],
   "source": [
    "import numpy as np\n",
    "import matplotlib.pyplot as plt"
   ]
  },
  {
   "cell_type": "code",
   "execution_count": null,
   "metadata": {},
   "outputs": [],
   "source": [
    "#for continental margin\n",
    "model_length=512.\n",
    "xx = np.arange(0., model_length) / (model_length +1)\n",
    "\n",
    "#print xx\n",
    "\n",
    "z = 20\n",
    "w= 10\n",
    "result= np.power(np.tanh(xx*z) + np.tanh((1-xx)*z) - np.tanh(z), w)\n",
    "# print result\n",
    "result[400:] = 1\n",
    "\n",
    "#print result\n",
    "\n",
    "plt.plot(result)\n",
    "#fact = fn.math.pow(fn.math.tanh(zz*20.0) + fn.math.tanh((1.0-zz)*20.0) - fn.math.tanh(20.0), 4)\n",
    "\n",
    "# Model.plasticStrain.data[:] = Model.plasticStrain.data[:] * fact.evaluate(Model.swarm)\n",
    "# # this means everything after x = 100 km can weaken\n",
    "# Model.plasticStrain.data[100:] = 1\n"
   ]
  },
  {
   "cell_type": "code",
   "execution_count": null,
   "metadata": {},
   "outputs": [],
   "source": [
    "import underworld.function as fn\n",
    "def post_hook():\n",
    "    coords = fn.input()\n",
    "    zz = coords[0] / (GEO.nd(Model.maxCoord[0]) - GEO.nd(Model.minCoord[0]))\n",
    "    fact = fn.math.pow(fn.math.tanh(zz*50.0) + fn.math.tanh((1.0-zz)*50.0) - fn.math.tanh(50.0), 10.0)\n",
    "    Model.plasticStrain.data[:] = Model.plasticStrain.data[:] * fact.evaluate(Model.swarm) # if symetric\n",
    "    #Model.plasticStrain.data[250:] = 1\n",
    "    #uw.barrier()\n",
    " \n",
    "# Model.postSolveHook = post_hook\n",
    " "
   ]
  },
  {
   "cell_type": "code",
   "execution_count": null,
   "metadata": {},
   "outputs": [],
   "source": [
    "Fig = glucifer.Figure(figsize=(800,400))\n",
    "Fig.Points(Model.swarm, GEO.Dimensionalize(Model.viscosityField, u.pascal * u.second), logScale=True)\n",
    "Fig.show()"
   ]
  },
  {
   "cell_type": "code",
   "execution_count": null,
   "metadata": {},
   "outputs": [],
   "source": [
    "Model.solver.set_inner_method(\"mumps\")\n",
    "Model.solver.set_penalty(1e6)\n",
    "GEO.rcParams[\"advection.diffusion.method\"] = \"SLCN\""
   ]
  },
  {
   "cell_type": "code",
   "execution_count": null,
   "metadata": {},
   "outputs": [],
   "source": [
    "Model.run_for(0.20 * u.megayear, checkpoint_interval=0.1*u.megayear)"
   ]
  },
  {
   "cell_type": "code",
   "execution_count": null,
   "metadata": {},
   "outputs": [],
   "source": [
    "Fig.show()"
   ]
  },
  {
   "cell_type": "code",
   "execution_count": null,
   "metadata": {},
   "outputs": [],
   "source": [
    "Model.run_for(0.20 * u.megayear, checkpoint_interval=0.1*u.megayear)\n",
    "Fig.show()"
   ]
  },
  {
   "cell_type": "code",
   "execution_count": null,
   "metadata": {},
   "outputs": [],
   "source": []
  }
 ],
 "metadata": {
  "kernelspec": {
   "display_name": "Python 3",
   "language": "python",
   "name": "python3"
  },
  "language_info": {
   "codemirror_mode": {
    "name": "ipython",
    "version": 3
   },
   "file_extension": ".py",
   "mimetype": "text/x-python",
   "name": "python",
   "nbconvert_exporter": "python",
   "pygments_lexer": "ipython3",
   "version": "3.5.3"
  }
 },
 "nbformat": 4,
 "nbformat_minor": 2
}
